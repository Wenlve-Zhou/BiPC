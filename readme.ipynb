{
 "cells": [
  {
   "cell_type": "markdown",
   "source": [
    "## BiPC: Bidrectional Probability Alignment for Unsupervised Domain Adaption"
   ],
   "metadata": {
    "collapsed": false,
    "pycharm": {
     "name": "#%% md\n"
    }
   }
  },
  {
   "cell_type": "markdown",
   "source": [
    "## Usage"
   ],
   "metadata": {
    "collapsed": false,
    "pycharm": {
     "name": "#%% md\n"
    }
   }
  },
  {
   "cell_type": "markdown",
   "source": "#### Take Office-Home as an example",
   "metadata": {
    "collapsed": false,
    "pycharm": {
     "name": "#%% md\n"
    }
   }
  },
  {
   "cell_type": "raw",
   "source": [
    "#ResNet-50-BiPC\n",
    "python main.py --config configs/office_home.yaml --data_dir [\"root of dataset\"] --src_domain [\"source domain\"] --tgt_domain [\"target domain\"] --model_name resnet50\n",
    "#ResNet-50-Baseline\n",
    "python main.py --config configs/office_home.yaml --data_dir [\"root of dataset\"] --src_domain [\"source domain\"] --tgt_domain [\"target domain\"] --model_name resnet50 --transfer_loss 0.0\n",
    "\n",
    "#deit_base-BiPC\n",
    "python main.py --config configs/office_home.yaml --data_dir [\"root of dataset\"] --src_domain [\"source domain\"] --tgt_domain [\"target domain\"] --model_name deit_base\n",
    "#ResNet-deit_base-Baseline\n",
    "python main.py --config configs/office_home.yaml --data_dir [\"root of dataset\"] --src_domain [\"source domain\"] --tgt_domain [\"target domain\"] --model_name deit_base --transfer_loss 0.0\n",
    "\n",
    "#swin_base-BiPC\n",
    "python main.py --config configs/office_home.yaml --data_dir [\"root of dataset\"] --src_domain [\"source domain\"] --tgt_domain [\"target domain\"] --model_name swin_base\n",
    "#ResNet-swin_base-Baseline\n",
    "python main.py --config configs/office_home.yaml --data_dir [\"root of dataset\"] --src_domain [\"source domain\"] --tgt_domain [\"target domain\"] --model_name swin_base --transfer_loss 0.0\n",
    "\n",
    "#deit_base_21k-BiPC\n",
    "python main.py --config configs/office_home.yaml --data_dir [\"root of dataset\"] --src_domain [\"source domain\"] --tgt_domain [\"target domain\"] --model_name deit_base_21k --lr 2e-4\n",
    "#ResNet-deit_base-Baseline\n",
    "python main.py --config configs/office_home.yaml --data_dir [\"root of dataset\"] --src_domain [\"source domain\"] --tgt_domain [\"target domain\"] --model_name deit_base_21k --lr 2e-4 --transfer_loss 0.0"
   ],
   "metadata": {
    "collapsed": false,
    "pycharm": {
     "name": "#%% raw\n"
    }
   }
  }
 ],
 "metadata": {
  "kernelspec": {
   "display_name": "Python 3",
   "language": "python",
   "name": "python3"
  },
  "language_info": {
   "codemirror_mode": {
    "name": "ipython",
    "version": 2
   },
   "file_extension": ".py",
   "mimetype": "text/x-python",
   "name": "python",
   "nbconvert_exporter": "python",
   "pygments_lexer": "ipython2",
   "version": "2.7.6"
  }
 },
 "nbformat": 4,
 "nbformat_minor": 0
}
